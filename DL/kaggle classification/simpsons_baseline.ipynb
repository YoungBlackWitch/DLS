{
 "nbformat": 4,
 "nbformat_minor": 0,
 "metadata": {
  "colab": {
   "provenance": [],
   "collapsed_sections": [
    "Gr9lRCJNNDfD"
   ]
  },
  "kernelspec": {
   "name": "python3",
   "display_name": "Python 3"
  },
  "accelerator": "GPU",
  "gpuClass": "standard"
 },
 "cells": [
  {
   "cell_type": "markdown",
   "metadata": {
    "id": "Xw7YkEefehWo",
    "pycharm": {
     "name": "#%% md\n"
    }
   },
   "source": [
    "# Соревнование на kaggle. Классификация изображений\n",
    "\n",
    "Обработка контента телекомпании FOX. Как вы знаете, сериал \"Симпсоны\" идет на телеэкранах более 25 лет, и за это время скопилось очень много видеоматериала. Персоонажи менялись вместе с изменяющимися графическими технологиями, и Гомер Симпсон-2018 не очень похож на Гомера Симпсона-1989. В этом соревновании  необходимо было классифицировать персонажей, проживающих в Спрингфилде.\n",
    "\n",
    "\n",
    "\n"
   ]
  },
  {
   "cell_type": "markdown",
   "metadata": {
    "id": "oG47vhLxKNln",
    "pycharm": {
     "name": "#%% md\n"
    }
   },
   "source": [
    "### Установка зависимостей"
   ]
  },
  {
   "cell_type": "code",
   "metadata": {
    "id": "WWgcwKwCLBfr",
    "outputId": "9a322a2b-d21d-430d-a391-682d1e5407d1",
    "colab": {
     "base_uri": "https://localhost:8080/"
    },
    "pycharm": {
     "name": "#%%\n"
    }
   },
   "source": [
    "import torch\n",
    "import numpy as np\n",
    "\n",
    "train_on_gpu = torch.cuda.is_available()\n",
    "\n",
    "if not train_on_gpu:\n",
    "    print('CUDA is not available.  Training on CPU ...')\n",
    "else:\n",
    "    print('CUDA is available!  Training on GPU ...')"
   ],
   "execution_count": 1,
   "outputs": [
    {
     "output_type": "stream",
     "name": "stdout",
     "text": [
      "CUDA is available!  Training on GPU ...\n"
     ]
    }
   ]
  },
  {
   "cell_type": "code",
   "metadata": {
    "id": "MXno2OSeLF3e",
    "outputId": "8522ef89-1c0b-4c5d-a995-23ae52813302",
    "colab": {
     "base_uri": "https://localhost:8080/"
    },
    "pycharm": {
     "name": "#%%\n"
    }
   },
   "source": [
    "# нам необходима версия pillow  5.3.0\n",
    "# удалим старую версию и установим новую\n",
    "# !pip uninstall -y Pillow\n",
    "# !pip install Pillow==5.3.0\n",
    "import PIL\n",
    "print(PIL.PILLOW_VERSION)\n",
    "# здесь должна быть версия 5.3.0. если это не так перехгрузите данный ноутбук:\n",
    "# Menu > Runtime > Restart Runtime"
   ],
   "execution_count": 2,
   "outputs": [
    {
     "output_type": "stream",
     "name": "stdout",
     "text": [
      "7.1.2\n"
     ]
    },
    {
     "output_type": "stream",
     "name": "stderr",
     "text": [
      "/usr/local/lib/python3.7/dist-packages/ipykernel_launcher.py:6: DeprecationWarning: PILLOW_VERSION is deprecated and will be removed in a future release. Use __version__ instead.\n",
      "  \n"
     ]
    }
   ]
  },
  {
   "cell_type": "markdown",
   "metadata": {
    "id": "TTQXgo_oYDx8",
    "pycharm": {
     "name": "#%% md\n"
    }
   },
   "source": []
  },
  {
   "cell_type": "code",
   "metadata": {
    "id": "xA3o2xC3MlMI",
    "outputId": "839a85cb-c24c-46a5-9d15-9441d6ab5f55",
    "colab": {
     "base_uri": "https://localhost:8080/"
    },
    "pycharm": {
     "name": "#%%\n"
    }
   },
   "source": [
    "from google.colab import drive\n",
    "drive.mount('/content/drive/')"
   ],
   "execution_count": 3,
   "outputs": [
    {
     "output_type": "stream",
     "name": "stdout",
     "text": [
      "Mounted at /content/drive/\n"
     ]
    }
   ]
  },
  {
   "cell_type": "code",
   "source": [
    "!ls -l /content/drive/MyDrive/Colab_Notebooks/journey-springfield.zip"
   ],
   "metadata": {
    "colab": {
     "base_uri": "https://localhost:8080/"
    },
    "id": "KiEZCACTyzmJ",
    "outputId": "abdf07df-0ccd-440b-d0b0-498555e0bf03",
    "pycharm": {
     "name": "#%%\n"
    }
   },
   "execution_count": 4,
   "outputs": [
    {
     "output_type": "stream",
     "name": "stdout",
     "text": [
      "-rw------- 1 root root 546224286 Nov 14 20:12 /content/drive/MyDrive/Colab_Notebooks/journey-springfield.zip\n"
     ]
    }
   ]
  },
  {
   "cell_type": "code",
   "metadata": {
    "id": "kRGt7YicMxYI",
    "pycharm": {
     "name": "#%%\n"
    }
   },
   "source": [
    "!unzip -q /content/drive/MyDrive/Colab_Notebooks/journey-springfield.zip"
   ],
   "execution_count": 5,
   "outputs": []
  },
  {
   "cell_type": "code",
   "source": [
    "!ls -l testset"
   ],
   "metadata": {
    "colab": {
     "base_uri": "https://localhost:8080/"
    },
    "id": "N33EB42sYwPe",
    "outputId": "24c1df23-d648-4d33-eb74-0f5f96b9c0d3",
    "pycharm": {
     "name": "#%%\n"
    }
   },
   "execution_count": null,
   "outputs": [
    {
     "output_type": "stream",
     "name": "stdout",
     "text": [
      "total 36\n",
      "drwxr-xr-x 2 root root 36864 Nov 29 11:45 testset\n"
     ]
    }
   ]
  },
  {
   "cell_type": "code",
   "source": [
    "!ls -1"
   ],
   "metadata": {
    "colab": {
     "base_uri": "https://localhost:8080/"
    },
    "id": "e__Po2ZLzEGv",
    "outputId": "67a8f9c5-7c8d-4180-d9c9-5a2bae7411d0",
    "pycharm": {
     "name": "#%%\n"
    }
   },
   "execution_count": 6,
   "outputs": [
    {
     "output_type": "stream",
     "name": "stdout",
     "text": [
      "characters_illustration.png\n",
      "drive\n",
      "sample_data\n",
      "sample_submission.csv\n",
      "testset\n",
      "train\n"
     ]
    }
   ]
  },
  {
   "cell_type": "code",
   "metadata": {
    "id": "GvWhlkiRMxih",
    "outputId": "54d9847b-68d5-4100-f631-1f3f939341c9",
    "colab": {
     "base_uri": "https://localhost:8080/"
    },
    "pycharm": {
     "name": "#%%\n"
    }
   },
   "source": [
    "!nvidia-smi\n",
    "import torch\n",
    "torch.cuda.is_available()"
   ],
   "execution_count": 7,
   "outputs": [
    {
     "output_type": "stream",
     "name": "stdout",
     "text": [
      "Wed Nov 30 14:18:26 2022       \n",
      "+-----------------------------------------------------------------------------+\n",
      "| NVIDIA-SMI 460.32.03    Driver Version: 460.32.03    CUDA Version: 11.2     |\n",
      "|-------------------------------+----------------------+----------------------+\n",
      "| GPU  Name        Persistence-M| Bus-Id        Disp.A | Volatile Uncorr. ECC |\n",
      "| Fan  Temp  Perf  Pwr:Usage/Cap|         Memory-Usage | GPU-Util  Compute M. |\n",
      "|                               |                      |               MIG M. |\n",
      "|===============================+======================+======================|\n",
      "|   0  Tesla T4            Off  | 00000000:00:04.0 Off |                    0 |\n",
      "| N/A   51C    P8     9W /  70W |      3MiB / 15109MiB |      0%      Default |\n",
      "|                               |                      |                  N/A |\n",
      "+-------------------------------+----------------------+----------------------+\n",
      "                                                                               \n",
      "+-----------------------------------------------------------------------------+\n",
      "| Processes:                                                                  |\n",
      "|  GPU   GI   CI        PID   Type   Process name                  GPU Memory |\n",
      "|        ID   ID                                                   Usage      |\n",
      "|=============================================================================|\n",
      "|  No running processes found                                                 |\n",
      "+-----------------------------------------------------------------------------+\n"
     ]
    },
    {
     "output_type": "execute_result",
     "data": {
      "text/plain": [
       "True"
      ]
     },
     "metadata": {},
     "execution_count": 7
    }
   ]
  },
  {
   "cell_type": "markdown",
   "metadata": {
    "id": "BD_8gK6PmgXk",
    "pycharm": {
     "name": "#%% md\n"
    }
   },
   "source": [
    "В нашем тесте будет 990 картнок, для которых вам будет необходимо предсказать класс."
   ]
  },
  {
   "cell_type": "code",
   "metadata": {
    "id": "naD6xsZzMxrC",
    "pycharm": {
     "name": "#%%\n"
    }
   },
   "source": [
    "import pickle\n",
    "import numpy as np\n",
    "import pandas as pd\n",
    "from skimage import io\n",
    "\n",
    "from tqdm import tqdm, tqdm_notebook\n",
    "from PIL import Image\n",
    "from pathlib import Path\n",
    "\n",
    "from torchvision import transforms, datasets\n",
    "from multiprocessing.pool import ThreadPool\n",
    "from sklearn.preprocessing import LabelEncoder\n",
    "from torch.utils.data import Dataset, DataLoader\n",
    "import torch.nn as nn\n",
    "\n",
    "from matplotlib import colors, pyplot as plt\n",
    "%matplotlib inline\n",
    "\n",
    "# в sklearn не все гладко, чтобы в colab удобно выводить картинки \n",
    "# мы будем игнорировать warnings\n",
    "import warnings\n",
    "warnings.filterwarnings(action='ignore', category=DeprecationWarning)\n"
   ],
   "execution_count": 8,
   "outputs": []
  },
  {
   "cell_type": "code",
   "metadata": {
    "id": "WTdzMtgJP15N",
    "pycharm": {
     "name": "#%%\n"
    }
   },
   "source": [
    "# разные режимы датасета \n",
    "DATA_MODES = ['train', 'val', 'test']\n",
    "# все изображения будут масштабированы к размеру 224x224 px\n",
    "RESCALE_SIZE = 224\n",
    "BATCH_SIZE = 256\n",
    "# работаем на видеокарте\n",
    "DEVICE = torch.device(\"cuda\")"
   ],
   "execution_count": 9,
   "outputs": []
  },
  {
   "cell_type": "markdown",
   "metadata": {
    "id": "HYFeKUzfy572",
    "pycharm": {
     "name": "#%% md\n"
    }
   },
   "source": [
    "https://jhui.github.io/2018/02/09/PyTorch-Data-loading-preprocess_torchvision/\n"
   ]
  },
  {
   "cell_type": "code",
   "metadata": {
    "id": "yUhzOq1zRJil",
    "pycharm": {
     "name": "#%%\n"
    }
   },
   "source": [
    "TRAIN_DIR = Path('train/simpsons_dataset')\n",
    "TEST_DIR = Path('testset/testset')\n",
    "\n",
    "train_val_files = sorted(list(TRAIN_DIR.rglob('*.jpg')))\n",
    "test_files = sorted(list(TEST_DIR.rglob('*.jpg')))\n",
    "train_labels = [path.parent.name for path in train_val_files]"
   ],
   "execution_count": 18,
   "outputs": []
  },
  {
   "cell_type": "markdown",
   "source": [
    "Не использую валидационную выборку, так как данных очень мало"
   ],
   "metadata": {
    "id": "oc4FJ2ASbWDN",
    "pycharm": {
     "name": "#%% md\n"
    }
   }
  },
  {
   "cell_type": "code",
   "metadata": {
    "id": "DMgIbm6hRwdQ",
    "pycharm": {
     "name": "#%%\n"
    }
   },
   "source": [
    "# uncomment if you have problem with pillow\n",
    "# def register_extension(id, extension): Image.EXTENSION[extension.lower()] = id.upper()\n",
    "# Image.register_extension = register_extension\n",
    "# def register_extensions(id, extensions): \n",
    "#     for extension in extensions: register_extension(id, extension)\n",
    "# Image.register_extensions = register_extensions"
   ],
   "execution_count": null,
   "outputs": []
  },
  {
   "cell_type": "markdown",
   "metadata": {
    "id": "PmKSdyv1b7PD",
    "pycharm": {
     "name": "#%% md\n"
    }
   },
   "source": [
    "Давайте посмотрим на наших героев внутри датасета."
   ]
  },
  {
   "cell_type": "markdown",
   "source": [
    "Посмотрим на баланс классов"
   ],
   "metadata": {
    "id": "mDzMLA_Q0qky",
    "pycharm": {
     "name": "#%% md\n"
    }
   }
  },
  {
   "cell_type": "code",
   "source": [
    "data = pd.Series(train_labels).value_counts().sort_values()\n",
    "data"
   ],
   "metadata": {
    "colab": {
     "base_uri": "https://localhost:8080/"
    },
    "id": "TxOpJ8KC0QWW",
    "outputId": "3bafe83f-9a11-4a1c-f220-bedf8c738e9c",
    "pycharm": {
     "name": "#%%\n"
    }
   },
   "execution_count": 19,
   "outputs": [
    {
     "output_type": "execute_result",
     "data": {
      "text/plain": [
       "lionel_hutz                    3\n",
       "troy_mcclure                   8\n",
       "disco_stu                      8\n",
       "miss_hoover                   17\n",
       "gil                           27\n",
       "fat_tony                      27\n",
       "otto_mann                     32\n",
       "sideshow_mel                  40\n",
       "agnes_skinner                 42\n",
       "rainier_wolfcastle            45\n",
       "cletus_spuckler               47\n",
       "snake_jailbird                55\n",
       "professor_john_frink          65\n",
       "martin_prince                 71\n",
       "patty_bouvier                 72\n",
       "ralph_wiggum                  89\n",
       "carl_carlson                  98\n",
       "selma_bouvier                103\n",
       "barney_gumble                106\n",
       "groundskeeper_willie         121\n",
       "maggie_simpson               128\n",
       "waylon_smithers              181\n",
       "mayor_quimby                 246\n",
       "lenny_leonard                310\n",
       "nelson_muntz                 358\n",
       "edna_krabappel               457\n",
       "comic_book_guy               469\n",
       "kent_brockman                498\n",
       "apu_nahasapeemapetilon       623\n",
       "sideshow_bob                 877\n",
       "abraham_grampa_simpson       913\n",
       "chief_wiggum                 986\n",
       "milhouse_van_houten         1079\n",
       "charles_montgomery_burns    1193\n",
       "principal_skinner           1194\n",
       "krusty_the_clown            1206\n",
       "marge_simpson               1291\n",
       "bart_simpson                1342\n",
       "lisa_simpson                1354\n",
       "moe_szyslak                 1452\n",
       "ned_flanders                1454\n",
       "homer_simpson               2246\n",
       "dtype: int64"
      ]
     },
     "metadata": {},
     "execution_count": 19
    }
   ]
  },
  {
   "cell_type": "markdown",
   "source": [
    "Видно, что данные сильно разбалансированы. Поэтому я провожу здесь аугментацию\n",
    "\n",
    "---\n",
    "\n"
   ],
   "metadata": {
    "id": "d0D_ClcL0zcd",
    "pycharm": {
     "name": "#%% md\n"
    }
   }
  },
  {
   "cell_type": "code",
   "source": [
    "augment = transforms.RandomChoice([\n",
    "    transforms.Compose([\n",
    "        transforms.Resize(size=300, max_size=301),\n",
    "        transforms.CenterCrop(size=300),\n",
    "        transforms.RandomCrop(250)\n",
    "    ]),\n",
    "    transforms.RandomRotation(degrees=(-25, 25)),\n",
    "    transforms.RandomHorizontalFlip(p=1),\n",
    "])\n",
    "train_transforms = transforms.Compose([\n",
    "    augment,\n",
    "    transforms.Resize(size=(RESCALE_SIZE, RESCALE_SIZE)),\n",
    "    transforms.Lambda(lambda x: np.array(x, dtype=\"float32\") / 255),\n",
    "    transforms.ToTensor(),\n",
    "    transforms.Normalize([0.485, 0.456, 0.406], [0.229, 0.224, 0.225]) ,\n",
    "])\n",
    "train_dataset = datasets.ImageFolder(root=TRAIN_DIR, transform=train_transforms)\n"
   ],
   "metadata": {
    "id": "B5xyoXj41Jr-",
    "pycharm": {
     "name": "#%%\n"
    }
   },
   "execution_count": 20,
   "outputs": []
  },
  {
   "cell_type": "markdown",
   "source": [
    "Использую WeightedRandomSampler, чтобы изображения из маленьких классов встречались чаще, а из больших реже.\n",
    "\n",
    "Таким образом, при помощи ауиментации и sampler получается более-менее сбалансированная выборка"
   ],
   "metadata": {
    "id": "Ujale4HyafG4",
    "pycharm": {
     "name": "#%% md\n"
    }
   }
  },
  {
   "cell_type": "code",
   "source": [
    "class_weight = 1/data\n",
    "class_weight"
   ],
   "metadata": {
    "colab": {
     "base_uri": "https://localhost:8080/"
    },
    "id": "LE8WRfpR1_wW",
    "outputId": "8c30e964-d239-4e15-f74d-2b821b95887c",
    "pycharm": {
     "name": "#%%\n"
    }
   },
   "execution_count": 21,
   "outputs": [
    {
     "output_type": "execute_result",
     "data": {
      "text/plain": [
       "lionel_hutz                 0.333333\n",
       "troy_mcclure                0.125000\n",
       "disco_stu                   0.125000\n",
       "miss_hoover                 0.058824\n",
       "gil                         0.037037\n",
       "fat_tony                    0.037037\n",
       "otto_mann                   0.031250\n",
       "sideshow_mel                0.025000\n",
       "agnes_skinner               0.023810\n",
       "rainier_wolfcastle          0.022222\n",
       "cletus_spuckler             0.021277\n",
       "snake_jailbird              0.018182\n",
       "professor_john_frink        0.015385\n",
       "martin_prince               0.014085\n",
       "patty_bouvier               0.013889\n",
       "ralph_wiggum                0.011236\n",
       "carl_carlson                0.010204\n",
       "selma_bouvier               0.009709\n",
       "barney_gumble               0.009434\n",
       "groundskeeper_willie        0.008264\n",
       "maggie_simpson              0.007812\n",
       "waylon_smithers             0.005525\n",
       "mayor_quimby                0.004065\n",
       "lenny_leonard               0.003226\n",
       "nelson_muntz                0.002793\n",
       "edna_krabappel              0.002188\n",
       "comic_book_guy              0.002132\n",
       "kent_brockman               0.002008\n",
       "apu_nahasapeemapetilon      0.001605\n",
       "sideshow_bob                0.001140\n",
       "abraham_grampa_simpson      0.001095\n",
       "chief_wiggum                0.001014\n",
       "milhouse_van_houten         0.000927\n",
       "charles_montgomery_burns    0.000838\n",
       "principal_skinner           0.000838\n",
       "krusty_the_clown            0.000829\n",
       "marge_simpson               0.000775\n",
       "bart_simpson                0.000745\n",
       "lisa_simpson                0.000739\n",
       "moe_szyslak                 0.000689\n",
       "ned_flanders                0.000688\n",
       "homer_simpson               0.000445\n",
       "dtype: float64"
      ]
     },
     "metadata": {},
     "execution_count": 21
    }
   ]
  },
  {
   "cell_type": "code",
   "source": [
    "sample_weights = [1/data[i] for i in pd.Series(train_labels)]\n",
    "sample_weights[:5]"
   ],
   "metadata": {
    "colab": {
     "base_uri": "https://localhost:8080/"
    },
    "id": "yYf-uT0h2kmr",
    "outputId": "4beebf1c-27f1-49a8-fdfa-aa6701f1d1ac",
    "pycharm": {
     "name": "#%%\n"
    }
   },
   "execution_count": 22,
   "outputs": [
    {
     "output_type": "execute_result",
     "data": {
      "text/plain": [
       "[0.001095290251916758,\n",
       " 0.001095290251916758,\n",
       " 0.001095290251916758,\n",
       " 0.001095290251916758,\n",
       " 0.001095290251916758]"
      ]
     },
     "metadata": {},
     "execution_count": 22
    }
   ]
  },
  {
   "cell_type": "code",
   "source": [
    "from torch.utils.data.sampler import WeightedRandomSampler\n",
    "sampler = WeightedRandomSampler(weights=sample_weights, num_samples=len(sample_weights), replacement=True)\n",
    "train_loader = DataLoader(train_dataset, batch_size=BATCH_SIZE, sampler=sampler, num_workers=2)"
   ],
   "metadata": {
    "id": "EJPcT4ph48dO",
    "pycharm": {
     "name": "#%%\n"
    }
   },
   "execution_count": 23,
   "outputs": []
  },
  {
   "cell_type": "markdown",
   "metadata": {
    "id": "GpN9lSi4QVGt",
    "pycharm": {
     "name": "#%% md\n"
    }
   },
   "source": [
    "Можете добавить ваши любимые сцены и классифицировать их. (веселые результаты можно кидать в чат)"
   ]
  },
  {
   "cell_type": "markdown",
   "metadata": {
    "id": "u6YcZk8vQR47",
    "pycharm": {
     "name": "#%% md\n"
    }
   },
   "source": [
    "### Построение нейросети\n",
    "\n",
    "*Описание слоев*:\n",
    "\n",
    "\n",
    "\n",
    "1. размерность входа: 3x224x224 \n",
    "2.размерности после слоя:  8x111x111\n",
    "3. 16x54x54\n",
    "4. 32x26x26\n",
    "5. 64x12x12\n",
    "6. выход: 96x5x5\n"
   ]
  },
  {
   "cell_type": "code",
   "metadata": {
    "id": "1PJcWAhuji-i",
    "pycharm": {
     "name": "#%%\n"
    }
   },
   "source": [
    "# Очень простая сеть\n",
    "class SimpleCnn(nn.Module):\n",
    "  \n",
    "    def __init__(self, n_classes):\n",
    "        super().__init__()\n",
    "        self.conv1 = nn.Sequential(\n",
    "            nn.Conv2d(in_channels=3, out_channels=8, kernel_size=3),\n",
    "            nn.ReLU(),\n",
    "            nn.MaxPool2d(kernel_size=2)\n",
    "        )\n",
    "        self.conv2 = nn.Sequential(\n",
    "            nn.Conv2d(in_channels=8, out_channels=16, kernel_size=3),\n",
    "            nn.ReLU(),\n",
    "            nn.MaxPool2d(kernel_size=2)\n",
    "        )\n",
    "        self.conv3 = nn.Sequential(\n",
    "            nn.Conv2d(in_channels=16, out_channels=32, kernel_size=3),\n",
    "            nn.ReLU(),\n",
    "            nn.MaxPool2d(kernel_size=2)\n",
    "        )\n",
    "        self.conv4 = nn.Sequential(\n",
    "            nn.Conv2d(in_channels=32, out_channels=64, kernel_size=3),\n",
    "            nn.ReLU(),\n",
    "            nn.MaxPool2d(kernel_size=2)\n",
    "        )\n",
    "        self.conv5 = nn.Sequential(\n",
    "            nn.Conv2d(in_channels=64, out_channels=96, kernel_size=3),\n",
    "            nn.ReLU(),\n",
    "            nn.MaxPool2d(kernel_size=2)\n",
    "        )\n",
    "        \n",
    "        self.out = nn.Linear(96 * 5 * 5, n_classes)\n",
    "  \n",
    "  \n",
    "    def forward(self, x):\n",
    "        x = self.conv1(x)\n",
    "        x = self.conv2(x)\n",
    "        x = self.conv3(x)\n",
    "        x = self.conv4(x)\n",
    "        x = self.conv5(x)\n",
    "\n",
    "        x = x.view(x.size(0), -1)\n",
    "        logits = self.out(x)\n",
    "        return logits"
   ],
   "execution_count": 24,
   "outputs": []
  },
  {
   "cell_type": "code",
   "metadata": {
    "id": "e2mk7MNtcUhJ",
    "pycharm": {
     "name": "#%%\n"
    }
   },
   "source": [
    "def fit_epoch(model, train_loader, criterion, optimizer, scheduler):\n",
    "    running_loss = 0.0\n",
    "    running_corrects = 0\n",
    "    processed_data = 0\n",
    "  \n",
    "    for inputs, labels in train_loader:\n",
    "        inputs = inputs.to(DEVICE)\n",
    "        labels = labels.to(DEVICE)\n",
    "        optimizer.zero_grad()\n",
    "\n",
    "        outputs = model(inputs)\n",
    "        loss = criterion(outputs, labels)\n",
    "        loss.backward()\n",
    "        optimizer.step()\n",
    "        preds = torch.argmax(outputs, 1)\n",
    "        running_loss += loss.item() * inputs.size(0)\n",
    "        running_corrects += torch.sum(preds == labels.data)\n",
    "        processed_data += inputs.size(0)\n",
    "              \n",
    "    scheduler.step()          \n",
    "    train_loss = running_loss / processed_data\n",
    "    train_acc = running_corrects.cpu().numpy() / processed_data\n",
    "    return train_loss, train_acc"
   ],
   "execution_count": 56,
   "outputs": []
  },
  {
   "cell_type": "code",
   "metadata": {
    "id": "NaxYIwB3cUmX",
    "pycharm": {
     "name": "#%%\n"
    }
   },
   "source": [
    "def train(model, loss, optimizer, epochs, batch_size, train_loader, scheduler):\n",
    "\n",
    "    history = []\n",
    "    log_template = \"\\nEpoch {ep:03d} train_loss: {t_loss:0.4f} train_acc {t_acc:0.4f}\"\n",
    "    \n",
    "    with tqdm(desc=\"epoch\", total=epochs) as pbar_outer:\n",
    "\n",
    "        for epoch in range(epochs):\n",
    "            train_loss, train_acc = fit_epoch(model, train_loader, loss, optimizer, scheduler)\n",
    "            print(\"loss\", train_loss)\n",
    "\n",
    "            history.append((train_loss, train_acc))\n",
    "            \n",
    "            pbar_outer.update(1)\n",
    "            tqdm.write(log_template.format(ep=epoch+1, t_loss=train_loss, t_acc=train_acc))\n",
    "            \n",
    "    return history"
   ],
   "execution_count": 52,
   "outputs": []
  },
  {
   "cell_type": "code",
   "metadata": {
    "id": "v6G7qbYqcUpL",
    "pycharm": {
     "name": "#%%\n"
    }
   },
   "source": [
    "def predict(model, test_loader):\n",
    "    with torch.no_grad():\n",
    "        logits = []\n",
    "    \n",
    "        for inputs in test_loader:\n",
    "            inputs = inputs.to(DEVICE)\n",
    "            model.eval()\n",
    "            outputs = model(inputs).cpu()\n",
    "            logits.append(outputs)\n",
    "            \n",
    "    probs = nn.functional.softmax(torch.cat(logits), dim=-1).numpy()\n",
    "    return probs"
   ],
   "execution_count": 28,
   "outputs": []
  },
  {
   "cell_type": "code",
   "metadata": {
    "id": "yzwhB4K3dQOC",
    "outputId": "0d0f11c6-a7ac-4a5a-b9f9-4287376c9bac",
    "colab": {
     "base_uri": "https://localhost:8080/"
    },
    "pycharm": {
     "name": "#%%\n"
    }
   },
   "source": [
    "n_classes = len(np.unique(train_labels))\n",
    "simple_cnn = SimpleCnn(n_classes).to(DEVICE)\n",
    "print(\"we will classify :{}\".format(n_classes))\n",
    "print(simple_cnn)"
   ],
   "execution_count": 29,
   "outputs": [
    {
     "output_type": "stream",
     "name": "stdout",
     "text": [
      "we will classify :42\n",
      "SimpleCnn(\n",
      "  (conv1): Sequential(\n",
      "    (0): Conv2d(3, 8, kernel_size=(3, 3), stride=(1, 1))\n",
      "    (1): ReLU()\n",
      "    (2): MaxPool2d(kernel_size=2, stride=2, padding=0, dilation=1, ceil_mode=False)\n",
      "  )\n",
      "  (conv2): Sequential(\n",
      "    (0): Conv2d(8, 16, kernel_size=(3, 3), stride=(1, 1))\n",
      "    (1): ReLU()\n",
      "    (2): MaxPool2d(kernel_size=2, stride=2, padding=0, dilation=1, ceil_mode=False)\n",
      "  )\n",
      "  (conv3): Sequential(\n",
      "    (0): Conv2d(16, 32, kernel_size=(3, 3), stride=(1, 1))\n",
      "    (1): ReLU()\n",
      "    (2): MaxPool2d(kernel_size=2, stride=2, padding=0, dilation=1, ceil_mode=False)\n",
      "  )\n",
      "  (conv4): Sequential(\n",
      "    (0): Conv2d(32, 64, kernel_size=(3, 3), stride=(1, 1))\n",
      "    (1): ReLU()\n",
      "    (2): MaxPool2d(kernel_size=2, stride=2, padding=0, dilation=1, ceil_mode=False)\n",
      "  )\n",
      "  (conv5): Sequential(\n",
      "    (0): Conv2d(64, 96, kernel_size=(3, 3), stride=(1, 1))\n",
      "    (1): ReLU()\n",
      "    (2): MaxPool2d(kernel_size=2, stride=2, padding=0, dilation=1, ceil_mode=False)\n",
      "  )\n",
      "  (out): Linear(in_features=2400, out_features=42, bias=True)\n",
      ")\n"
     ]
    }
   ]
  },
  {
   "cell_type": "markdown",
   "metadata": {
    "id": "bo3UND5RdgVg",
    "pycharm": {
     "name": "#%% md\n"
    }
   },
   "source": [
    "Запустим обучение сети."
   ]
  },
  {
   "cell_type": "code",
   "source": [
    "model = SimpleCnn(n_classes).to(DEVICE)\n",
    "loss = torch.nn.CrossEntropyLoss()\n",
    "optimizer = torch.optim.Adam(model.parameters(), amsgrad=True, lr=1e-3)\n",
    "scheduler = torch.optim.lr_scheduler.StepLR(optimizer, step_size=7, gamma=0.1)"
   ],
   "metadata": {
    "id": "po82wGLj8XQs",
    "pycharm": {
     "name": "#%%\n"
    }
   },
   "execution_count": 30,
   "outputs": []
  },
  {
   "cell_type": "code",
   "metadata": {
    "id": "iDXoR8PIdfLD",
    "outputId": "93c6522f-4885-4e7c-acb6-1f8624d44f2e",
    "colab": {
     "base_uri": "https://localhost:8080/"
    },
    "pycharm": {
     "name": "#%%\n"
    }
   },
   "source": [
    "history = train(model=model, loss=loss, optimizer=optimizer, epochs=20, batch_size=BATCH_SIZE, train_loader=train_loader)"
   ],
   "execution_count": 31,
   "outputs": [
    {
     "output_type": "stream",
     "name": "stderr",
     "text": [
      "epoch:   5%|▌         | 1/20 [02:06<39:57, 126.19s/it]"
     ]
    },
    {
     "output_type": "stream",
     "name": "stdout",
     "text": [
      "loss 3.111881375147656\n",
      "\n",
      "Epoch 001 train_loss: 3.1119 train_acc 0.1910\n"
     ]
    },
    {
     "output_type": "stream",
     "name": "stderr",
     "text": [
      "epoch:  10%|█         | 2/20 [03:57<35:13, 117.43s/it]"
     ]
    },
    {
     "output_type": "stream",
     "name": "stdout",
     "text": [
      "loss 1.9206540564176817\n",
      "\n",
      "Epoch 002 train_loss: 1.9207 train_acc 0.4955\n"
     ]
    },
    {
     "output_type": "stream",
     "name": "stderr",
     "text": [
      "epoch:  15%|█▌        | 3/20 [05:51<32:46, 115.70s/it]"
     ]
    },
    {
     "output_type": "stream",
     "name": "stdout",
     "text": [
      "loss 1.3616516567111407\n",
      "\n",
      "Epoch 003 train_loss: 1.3617 train_acc 0.6461\n"
     ]
    },
    {
     "output_type": "stream",
     "name": "stderr",
     "text": [
      "epoch:  20%|██        | 4/20 [07:40<30:08, 113.02s/it]"
     ]
    },
    {
     "output_type": "stream",
     "name": "stdout",
     "text": [
      "loss 1.067460985379731\n",
      "\n",
      "Epoch 004 train_loss: 1.0675 train_acc 0.7217\n"
     ]
    },
    {
     "output_type": "stream",
     "name": "stderr",
     "text": [
      "epoch:  25%|██▌       | 5/20 [09:32<28:10, 112.69s/it]"
     ]
    },
    {
     "output_type": "stream",
     "name": "stdout",
     "text": [
      "loss 0.9200491388551494\n",
      "\n",
      "Epoch 005 train_loss: 0.9200 train_acc 0.7610\n"
     ]
    },
    {
     "output_type": "stream",
     "name": "stderr",
     "text": [
      "epoch:  30%|███       | 6/20 [11:20<25:58, 111.31s/it]"
     ]
    },
    {
     "output_type": "stream",
     "name": "stdout",
     "text": [
      "loss 0.7729705808405629\n",
      "\n",
      "Epoch 006 train_loss: 0.7730 train_acc 0.7982\n"
     ]
    },
    {
     "output_type": "stream",
     "name": "stderr",
     "text": [
      "epoch:  35%|███▌      | 7/20 [13:14<24:15, 111.97s/it]"
     ]
    },
    {
     "output_type": "stream",
     "name": "stdout",
     "text": [
      "loss 0.7036747616230203\n",
      "\n",
      "Epoch 007 train_loss: 0.7037 train_acc 0.8143\n"
     ]
    },
    {
     "output_type": "stream",
     "name": "stderr",
     "text": [
      "epoch:  40%|████      | 8/20 [15:04<22:18, 111.58s/it]"
     ]
    },
    {
     "output_type": "stream",
     "name": "stdout",
     "text": [
      "loss 0.6721499019321069\n",
      "\n",
      "Epoch 008 train_loss: 0.6721 train_acc 0.8254\n"
     ]
    },
    {
     "output_type": "stream",
     "name": "stderr",
     "text": [
      "epoch:  45%|████▌     | 9/20 [16:54<20:22, 111.11s/it]"
     ]
    },
    {
     "output_type": "stream",
     "name": "stdout",
     "text": [
      "loss 0.5954672400582248\n",
      "\n",
      "Epoch 009 train_loss: 0.5955 train_acc 0.8432\n"
     ]
    },
    {
     "output_type": "stream",
     "name": "stderr",
     "text": [
      "epoch:  50%|█████     | 10/20 [18:46<18:32, 111.22s/it]"
     ]
    },
    {
     "output_type": "stream",
     "name": "stdout",
     "text": [
      "loss 0.5460767950984551\n",
      "\n",
      "Epoch 010 train_loss: 0.5461 train_acc 0.8544\n"
     ]
    },
    {
     "output_type": "stream",
     "name": "stderr",
     "text": [
      "epoch:  55%|█████▌    | 11/20 [20:36<16:38, 110.95s/it]"
     ]
    },
    {
     "output_type": "stream",
     "name": "stdout",
     "text": [
      "loss 0.515433365548784\n",
      "\n",
      "Epoch 011 train_loss: 0.5154 train_acc 0.8590\n"
     ]
    },
    {
     "output_type": "stream",
     "name": "stderr",
     "text": [
      "epoch:  60%|██████    | 12/20 [22:26<14:44, 110.62s/it]"
     ]
    },
    {
     "output_type": "stream",
     "name": "stdout",
     "text": [
      "loss 0.4778855100002871\n",
      "\n",
      "Epoch 012 train_loss: 0.4779 train_acc 0.8729\n"
     ]
    },
    {
     "output_type": "stream",
     "name": "stderr",
     "text": [
      "epoch:  65%|██████▌   | 13/20 [24:15<12:51, 110.17s/it]"
     ]
    },
    {
     "output_type": "stream",
     "name": "stdout",
     "text": [
      "loss 0.43895292581081596\n",
      "\n",
      "Epoch 013 train_loss: 0.4390 train_acc 0.8840\n"
     ]
    },
    {
     "output_type": "stream",
     "name": "stderr",
     "text": [
      "epoch:  70%|███████   | 14/20 [26:05<10:59, 109.92s/it]"
     ]
    },
    {
     "output_type": "stream",
     "name": "stdout",
     "text": [
      "loss 0.4224999791155097\n",
      "\n",
      "Epoch 014 train_loss: 0.4225 train_acc 0.8878\n"
     ]
    },
    {
     "output_type": "stream",
     "name": "stderr",
     "text": [
      "epoch:  75%|███████▌  | 15/20 [27:57<09:13, 110.70s/it]"
     ]
    },
    {
     "output_type": "stream",
     "name": "stdout",
     "text": [
      "loss 0.39595246846042725\n",
      "\n",
      "Epoch 015 train_loss: 0.3960 train_acc 0.8938\n"
     ]
    },
    {
     "output_type": "stream",
     "name": "stderr",
     "text": [
      "epoch:  80%|████████  | 16/20 [29:50<07:25, 111.39s/it]"
     ]
    },
    {
     "output_type": "stream",
     "name": "stdout",
     "text": [
      "loss 0.3889754138161197\n",
      "\n",
      "Epoch 016 train_loss: 0.3890 train_acc 0.8947\n"
     ]
    },
    {
     "output_type": "stream",
     "name": "stderr",
     "text": [
      "epoch:  85%|████████▌ | 17/20 [31:39<05:32, 110.69s/it]"
     ]
    },
    {
     "output_type": "stream",
     "name": "stdout",
     "text": [
      "loss 0.3615725767192181\n",
      "\n",
      "Epoch 017 train_loss: 0.3616 train_acc 0.9029\n"
     ]
    },
    {
     "output_type": "stream",
     "name": "stderr",
     "text": [
      "epoch:  90%|█████████ | 18/20 [33:30<03:41, 110.60s/it]"
     ]
    },
    {
     "output_type": "stream",
     "name": "stdout",
     "text": [
      "loss 0.3367715287010947\n",
      "\n",
      "Epoch 018 train_loss: 0.3368 train_acc 0.9108\n"
     ]
    },
    {
     "output_type": "stream",
     "name": "stderr",
     "text": [
      "epoch:  95%|█████████▌| 19/20 [35:21<01:50, 110.73s/it]"
     ]
    },
    {
     "output_type": "stream",
     "name": "stdout",
     "text": [
      "loss 0.33537087790350883\n",
      "\n",
      "Epoch 019 train_loss: 0.3354 train_acc 0.9098\n"
     ]
    },
    {
     "output_type": "stream",
     "name": "stderr",
     "text": [
      "epoch: 100%|██████████| 20/20 [37:11<00:00, 111.55s/it]"
     ]
    },
    {
     "output_type": "stream",
     "name": "stdout",
     "text": [
      "loss 0.3248715068304447\n",
      "\n",
      "Epoch 020 train_loss: 0.3249 train_acc 0.9135\n"
     ]
    },
    {
     "output_type": "stream",
     "name": "stderr",
     "text": [
      "\n"
     ]
    }
   ]
  },
  {
   "cell_type": "markdown",
   "metadata": {
    "id": "7qMAdL_BduXZ",
    "pycharm": {
     "name": "#%% md\n"
    }
   },
   "source": [
    "Построим кривые обучения"
   ]
  },
  {
   "cell_type": "code",
   "metadata": {
    "id": "2ryD_9yFdfNr",
    "pycharm": {
     "name": "#%%\n"
    }
   },
   "source": [
    "loss, acc = zip(*history)"
   ],
   "execution_count": 32,
   "outputs": []
  },
  {
   "cell_type": "code",
   "metadata": {
    "id": "GpQDWGkfdfQ5",
    "outputId": "34c74d1f-50c5-4305-e319-0b93dab7c55e",
    "colab": {
     "base_uri": "https://localhost:8080/",
     "height": 551
    },
    "pycharm": {
     "name": "#%%\n"
    }
   },
   "source": [
    "plt.figure(figsize=(15, 9))\n",
    "plt.plot(loss, label=\"train_loss\")\n",
    "plt.legend(loc='best')\n",
    "plt.xlabel(\"epochs\")\n",
    "plt.ylabel(\"loss\")\n",
    "plt.show()"
   ],
   "execution_count": 33,
   "outputs": [
    {
     "output_type": "display_data",
     "data": {
      "text/plain": [
       "<Figure size 1080x648 with 1 Axes>"
      ],
      "image/png": "[encoded data removed]"
     },
     "metadata": {
      "needs_background": "light"
     }
    }
   ]
  },
  {
   "cell_type": "code",
   "source": [
    "# Немного увеличенная простая нейросеть\n",
    "class MySimpleCnn(nn.Module):\n",
    "  \n",
    "    def __init__(self, n_classes):\n",
    "        super().__init__()\n",
    "        self.conv1 = nn.Sequential(\n",
    "            nn.Conv2d(in_channels=3, out_channels=8, kernel_size=3),\n",
    "            nn.ReLU(),\n",
    "            nn.MaxPool2d(kernel_size=2)\n",
    "        )\n",
    "        self.conv2 = nn.Sequential(\n",
    "            nn.Conv2d(in_channels=8, out_channels=16, kernel_size=3),\n",
    "            nn.ReLU(),\n",
    "            nn.MaxPool2d(kernel_size=2)\n",
    "        )\n",
    "        self.conv3 = nn.Sequential(\n",
    "            nn.Conv2d(in_channels=16, out_channels=32, kernel_size=3),\n",
    "            nn.ReLU(),\n",
    "            nn.MaxPool2d(kernel_size=2)\n",
    "        )\n",
    "        self.conv4 = nn.Sequential(\n",
    "            nn.Conv2d(in_channels=32, out_channels=64, kernel_size=3),\n",
    "            nn.ReLU(),\n",
    "            nn.MaxPool2d(kernel_size=2)\n",
    "        )\n",
    "        self.conv5 = nn.Sequential(\n",
    "            nn.Conv2d(in_channels=64, out_channels=96, kernel_size=3),\n",
    "            nn.ReLU(),\n",
    "            nn.MaxPool2d(kernel_size=2)\n",
    "        )\n",
    "        \n",
    "        self.linear1 = nn.Sequential(\n",
    "            nn.Linear(96 * 5 * 5, 4096),\n",
    "            nn.ReLU()\n",
    "        )\n",
    "\n",
    "        self.linear2 = nn.Sequential(\n",
    "            nn.Linear(4096, 4096),\n",
    "            nn.ReLU()\n",
    "        )\n",
    "\n",
    "        self.out = nn.Linear(4096, n_classes)\n",
    "  \n",
    "  \n",
    "    def forward(self, x):\n",
    "        x = self.conv1(x)\n",
    "        x = self.conv2(x)\n",
    "        x = self.conv3(x)\n",
    "        x = self.conv4(x)\n",
    "        x = self.conv5(x)\n",
    "\n",
    "        x = x.view(x.size(0), -1)\n",
    "        x = self.linear1(x)\n",
    "        x = self.linear2(x)\n",
    "        logits = self.out(x)\n",
    "        return logits"
   ],
   "metadata": {
    "id": "69uqyjS4Dlpq",
    "pycharm": {
     "name": "#%%\n"
    }
   },
   "execution_count": 53,
   "outputs": []
  },
  {
   "cell_type": "code",
   "source": [
    "model = MySimpleCnn(n_classes).to(DEVICE)\n",
    "loss = torch.nn.CrossEntropyLoss()\n",
    "optimizer = torch.optim.Adam(model.parameters(), amsgrad=True, lr=1e-3)\n",
    "scheduler = torch.optim.lr_scheduler.StepLR(optimizer, step_size=7, gamma=0.1)"
   ],
   "metadata": {
    "id": "GRCg-PDMElJ5",
    "pycharm": {
     "name": "#%%\n"
    }
   },
   "execution_count": 57,
   "outputs": []
  },
  {
   "cell_type": "code",
   "source": [
    "history = train(model=model, loss=loss, optimizer=optimizer, epochs=20, batch_size=BATCH_SIZE, train_loader=train_loader, scheduler=scheduler)"
   ],
   "metadata": {
    "colab": {
     "base_uri": "https://localhost:8080/"
    },
    "id": "UxTllY_fEref",
    "outputId": "ad7f062c-e14b-490e-ceac-bbaf4749f9a6",
    "pycharm": {
     "name": "#%%\n"
    }
   },
   "execution_count": 58,
   "outputs": [
    {
     "output_type": "stream",
     "name": "stderr",
     "text": [
      "epoch:   5%|▌         | 1/20 [01:58<37:28, 118.34s/it]"
     ]
    },
    {
     "output_type": "stream",
     "name": "stdout",
     "text": [
      "loss 3.302203492417142\n",
      "\n",
      "Epoch 001 train_loss: 3.3022 train_acc 0.1320\n"
     ]
    },
    {
     "output_type": "stream",
     "name": "stderr",
     "text": [
      "epoch:  10%|█         | 2/20 [03:56<35:25, 118.08s/it]"
     ]
    },
    {
     "output_type": "stream",
     "name": "stdout",
     "text": [
      "loss 2.0774846685170183\n",
      "\n",
      "Epoch 002 train_loss: 2.0775 train_acc 0.4279\n"
     ]
    },
    {
     "output_type": "stream",
     "name": "stderr",
     "text": [
      "epoch:  15%|█▌        | 3/20 [05:53<33:22, 117.80s/it]"
     ]
    },
    {
     "output_type": "stream",
     "name": "stdout",
     "text": [
      "loss 1.246113833829619\n",
      "\n",
      "Epoch 003 train_loss: 1.2461 train_acc 0.6475\n"
     ]
    },
    {
     "output_type": "stream",
     "name": "stderr",
     "text": [
      "epoch:  20%|██        | 4/20 [07:48<31:08, 116.80s/it]"
     ]
    },
    {
     "output_type": "stream",
     "name": "stdout",
     "text": [
      "loss 0.825603053953965\n",
      "\n",
      "Epoch 004 train_loss: 0.8256 train_acc 0.7655\n"
     ]
    },
    {
     "output_type": "stream",
     "name": "stderr",
     "text": [
      "epoch:  25%|██▌       | 5/20 [09:47<29:20, 117.36s/it]"
     ]
    },
    {
     "output_type": "stream",
     "name": "stdout",
     "text": [
      "loss 0.6119709782779675\n",
      "\n",
      "Epoch 005 train_loss: 0.6120 train_acc 0.8271\n"
     ]
    },
    {
     "output_type": "stream",
     "name": "stderr",
     "text": [
      "epoch:  30%|███       | 6/20 [11:43<27:19, 117.11s/it]"
     ]
    },
    {
     "output_type": "stream",
     "name": "stdout",
     "text": [
      "loss 0.4913673866058805\n",
      "\n",
      "Epoch 006 train_loss: 0.4914 train_acc 0.8598\n"
     ]
    },
    {
     "output_type": "stream",
     "name": "stderr",
     "text": [
      "epoch:  35%|███▌      | 7/20 [13:38<25:12, 116.32s/it]"
     ]
    },
    {
     "output_type": "stream",
     "name": "stdout",
     "text": [
      "loss 0.39565264071753287\n",
      "\n",
      "Epoch 007 train_loss: 0.3957 train_acc 0.8848\n"
     ]
    },
    {
     "output_type": "stream",
     "name": "stderr",
     "text": [
      "epoch:  40%|████      | 8/20 [15:30<22:57, 114.76s/it]"
     ]
    },
    {
     "output_type": "stream",
     "name": "stdout",
     "text": [
      "loss 0.2907948662096548\n",
      "\n",
      "Epoch 008 train_loss: 0.2908 train_acc 0.9158\n"
     ]
    },
    {
     "output_type": "stream",
     "name": "stderr",
     "text": [
      "epoch:  45%|████▌     | 9/20 [17:23<20:57, 114.34s/it]"
     ]
    },
    {
     "output_type": "stream",
     "name": "stdout",
     "text": [
      "loss 0.2561885190338661\n",
      "\n",
      "Epoch 009 train_loss: 0.2562 train_acc 0.9287\n"
     ]
    },
    {
     "output_type": "stream",
     "name": "stderr",
     "text": [
      "epoch:  50%|█████     | 10/20 [19:16<18:59, 113.91s/it]"
     ]
    },
    {
     "output_type": "stream",
     "name": "stdout",
     "text": [
      "loss 0.23334534827673\n",
      "\n",
      "Epoch 010 train_loss: 0.2333 train_acc 0.9347\n"
     ]
    },
    {
     "output_type": "stream",
     "name": "stderr",
     "text": [
      "epoch:  55%|█████▌    | 11/20 [21:10<17:05, 113.94s/it]"
     ]
    },
    {
     "output_type": "stream",
     "name": "stdout",
     "text": [
      "loss 0.20532440351131784\n",
      "\n",
      "Epoch 011 train_loss: 0.2053 train_acc 0.9423\n"
     ]
    },
    {
     "output_type": "stream",
     "name": "stderr",
     "text": [
      "epoch:  60%|██████    | 12/20 [23:04<15:11, 113.98s/it]"
     ]
    },
    {
     "output_type": "stream",
     "name": "stdout",
     "text": [
      "loss 0.20213754989998012\n",
      "\n",
      "Epoch 012 train_loss: 0.2021 train_acc 0.9425\n"
     ]
    },
    {
     "output_type": "stream",
     "name": "stderr",
     "text": [
      "epoch:  65%|██████▌   | 13/20 [24:57<13:15, 113.60s/it]"
     ]
    },
    {
     "output_type": "stream",
     "name": "stdout",
     "text": [
      "loss 0.1945202810194092\n",
      "\n",
      "Epoch 013 train_loss: 0.1945 train_acc 0.9448\n"
     ]
    },
    {
     "output_type": "stream",
     "name": "stderr",
     "text": [
      "epoch:  70%|███████   | 14/20 [26:53<11:26, 114.46s/it]"
     ]
    },
    {
     "output_type": "stream",
     "name": "stdout",
     "text": [
      "loss 0.1774755209789014\n",
      "\n",
      "Epoch 014 train_loss: 0.1775 train_acc 0.9500\n"
     ]
    },
    {
     "output_type": "stream",
     "name": "stderr",
     "text": [
      "epoch:  75%|███████▌  | 15/20 [28:48<09:32, 114.47s/it]"
     ]
    },
    {
     "output_type": "stream",
     "name": "stdout",
     "text": [
      "loss 0.166473516753666\n",
      "\n",
      "Epoch 015 train_loss: 0.1665 train_acc 0.9533\n"
     ]
    },
    {
     "output_type": "stream",
     "name": "stderr",
     "text": [
      "epoch:  80%|████████  | 16/20 [30:42<07:37, 114.39s/it]"
     ]
    },
    {
     "output_type": "stream",
     "name": "stdout",
     "text": [
      "loss 0.1646529847881225\n",
      "\n",
      "Epoch 016 train_loss: 0.1647 train_acc 0.9540\n"
     ]
    },
    {
     "output_type": "stream",
     "name": "stderr",
     "text": [
      "epoch:  85%|████████▌ | 17/20 [32:39<05:45, 115.23s/it]"
     ]
    },
    {
     "output_type": "stream",
     "name": "stdout",
     "text": [
      "loss 0.17023510418297347\n",
      "\n",
      "Epoch 017 train_loss: 0.1702 train_acc 0.9529\n"
     ]
    },
    {
     "output_type": "stream",
     "name": "stderr",
     "text": [
      "epoch:  90%|█████████ | 18/20 [34:33<03:49, 114.79s/it]"
     ]
    },
    {
     "output_type": "stream",
     "name": "stdout",
     "text": [
      "loss 0.15917253200695655\n",
      "\n",
      "Epoch 018 train_loss: 0.1592 train_acc 0.9546\n"
     ]
    },
    {
     "output_type": "stream",
     "name": "stderr",
     "text": [
      "epoch:  95%|█████████▌| 19/20 [36:28<01:54, 114.92s/it]"
     ]
    },
    {
     "output_type": "stream",
     "name": "stdout",
     "text": [
      "loss 0.1661774018394197\n",
      "\n",
      "Epoch 019 train_loss: 0.1662 train_acc 0.9532\n"
     ]
    },
    {
     "output_type": "stream",
     "name": "stderr",
     "text": [
      "epoch: 100%|██████████| 20/20 [38:22<00:00, 115.15s/it]"
     ]
    },
    {
     "output_type": "stream",
     "name": "stdout",
     "text": [
      "loss 0.15330523080717717\n",
      "\n",
      "Epoch 020 train_loss: 0.1533 train_acc 0.9564\n"
     ]
    },
    {
     "output_type": "stream",
     "name": "stderr",
     "text": [
      "\n"
     ]
    }
   ]
  },
  {
   "cell_type": "code",
   "source": [
    "loss, acc = zip(*history)"
   ],
   "metadata": {
    "id": "wZU0fw5yEvhR",
    "pycharm": {
     "name": "#%%\n"
    }
   },
   "execution_count": 59,
   "outputs": []
  },
  {
   "cell_type": "code",
   "source": [
    "plt.figure(figsize=(15, 9))\n",
    "plt.plot(loss, label=\"train_loss\")\n",
    "plt.legend(loc='best')\n",
    "plt.xlabel(\"epochs\")\n",
    "plt.ylabel(\"loss\")\n",
    "plt.show()"
   ],
   "metadata": {
    "colab": {
     "base_uri": "https://localhost:8080/",
     "height": 551
    },
    "id": "sBnlAybOEyFT",
    "outputId": "2cb383d3-d2d2-4123-ceef-0f0037249211",
    "pycharm": {
     "name": "#%%\n"
    }
   },
   "execution_count": 60,
   "outputs": [
    {
     "output_type": "display_data",
     "data": {
      "text/plain": [
       "<Figure size 1080x648 with 1 Axes>"
      ],
      "image/png": "[encoded data removed]"
     },
     "metadata": {
      "needs_background": "light"
     }
    }
   ]
  },
  {
   "cell_type": "code",
   "metadata": {
    "id": "t-0pRdHnQQKM",
    "pycharm": {
     "name": "#%%\n"
    }
   },
   "source": [
    "label_encoder = pickle.load(open(\"label_encoder.pkl\", 'rb'))"
   ],
   "execution_count": null,
   "outputs": []
  },
  {
   "cell_type": "markdown",
   "metadata": {
    "id": "QEWTL6jgdh7L",
    "pycharm": {
     "name": "#%% md\n"
    }
   },
   "source": [
    "### Submit на Kaggle"
   ]
  },
  {
   "cell_type": "markdown",
   "metadata": {
    "id": "wrjQ6cxHIGtk",
    "pycharm": {
     "name": "#%% md\n"
    }
   },
   "source": [
    "![alt text](https://i.redd.it/nuaphfioz0211.jpg)"
   ]
  },
  {
   "cell_type": "code",
   "source": [
    "class TestDataset(Dataset):\n",
    "    def __init__(self, files):\n",
    "        self.files = files\n",
    "\n",
    "    def __getitem__(self, index):\n",
    "        test_transforms = transforms.Compose([\n",
    "            transforms.Resize(size=(RESCALE_SIZE, RESCALE_SIZE)),\n",
    "            transforms.Lambda(lambda x: np.array(x, dtype=\"float32\") / 255),\n",
    "            transforms.ToTensor(),\n",
    "            transforms.Normalize([0.485, 0.456, 0.406], [0.229, 0.224, 0.225]) ,\n",
    "        ])\n",
    "        img = Image.open(self.files[index]).convert('RGB')\n",
    "        return test_transforms(img)\n",
    "    \n",
    "    def __len__(self):\n",
    "        return len(self.files)"
   ],
   "metadata": {
    "id": "MgHj1dC55WHS",
    "pycharm": {
     "name": "#%%\n"
    }
   },
   "execution_count": 47,
   "outputs": []
  },
  {
   "cell_type": "code",
   "source": [
    "test_dataset = TestDataset(test_files)\n",
    "test_loader = DataLoader(test_dataset, shuffle=False, batch_size=BATCH_SIZE)\n",
    "probs = predict(model, test_loader)\n",
    "preds = [train_dataset.classes[i] for i in probs.argmax(axis=-1)]\n",
    "test_filenames = [path.name for path in test_dataset.files]"
   ],
   "metadata": {
    "id": "VreR9CPz6Tn-",
    "pycharm": {
     "name": "#%%\n"
    }
   },
   "execution_count": 48,
   "outputs": []
  },
  {
   "cell_type": "code",
   "source": [
    "simple_cnn"
   ],
   "metadata": {
    "colab": {
     "base_uri": "https://localhost:8080/"
    },
    "id": "KQ_f040FMEnC",
    "outputId": "21c10c39-0a26-45e6-c7df-6f995846828a",
    "pycharm": {
     "name": "#%%\n"
    }
   },
   "execution_count": null,
   "outputs": [
    {
     "output_type": "execute_result",
     "data": {
      "text/plain": [
       "SimpleCnn(\n",
       "  (conv1): Sequential(\n",
       "    (0): Conv2d(3, 8, kernel_size=(3, 3), stride=(1, 1))\n",
       "    (1): ReLU()\n",
       "    (2): MaxPool2d(kernel_size=2, stride=2, padding=0, dilation=1, ceil_mode=False)\n",
       "  )\n",
       "  (conv2): Sequential(\n",
       "    (0): Conv2d(8, 16, kernel_size=(3, 3), stride=(1, 1))\n",
       "    (1): ReLU()\n",
       "    (2): MaxPool2d(kernel_size=2, stride=2, padding=0, dilation=1, ceil_mode=False)\n",
       "  )\n",
       "  (conv3): Sequential(\n",
       "    (0): Conv2d(16, 32, kernel_size=(3, 3), stride=(1, 1))\n",
       "    (1): ReLU()\n",
       "    (2): MaxPool2d(kernel_size=2, stride=2, padding=0, dilation=1, ceil_mode=False)\n",
       "  )\n",
       "  (conv4): Sequential(\n",
       "    (0): Conv2d(32, 64, kernel_size=(3, 3), stride=(1, 1))\n",
       "    (1): ReLU()\n",
       "    (2): MaxPool2d(kernel_size=2, stride=2, padding=0, dilation=1, ceil_mode=False)\n",
       "  )\n",
       "  (conv5): Sequential(\n",
       "    (0): Conv2d(64, 96, kernel_size=(3, 3), stride=(1, 1))\n",
       "    (1): ReLU()\n",
       "    (2): MaxPool2d(kernel_size=2, stride=2, padding=0, dilation=1, ceil_mode=False)\n",
       "  )\n",
       "  (out): Linear(in_features=2400, out_features=42, bias=True)\n",
       ")"
      ]
     },
     "metadata": {},
     "execution_count": 96
    }
   ]
  },
  {
   "cell_type": "code",
   "metadata": {
    "id": "_rTtbV1teD2k",
    "colab": {
     "base_uri": "https://localhost:8080/"
    },
    "outputId": "9ed21c44-15dc-4d63-95c9-2f43c5e304f0",
    "pycharm": {
     "name": "#%%\n"
    }
   },
   "source": [
    "! ls "
   ],
   "execution_count": null,
   "outputs": [
    {
     "output_type": "stream",
     "name": "stdout",
     "text": [
      "characters_illustration.png  label_encoder.pkl\tsample_submission.csv  train\n",
      "drive\t\t\t     sample_data\ttestset\n"
     ]
    }
   ]
  },
  {
   "cell_type": "code",
   "metadata": {
    "id": "yw0zZ-Hdd89s",
    "colab": {
     "base_uri": "https://localhost:8080/",
     "height": 206
    },
    "outputId": "6f313517-1ab0-41cb-dd04-1e1cfdf3d80f",
    "pycharm": {
     "name": "#%%\n"
    }
   },
   "source": [
    "import pandas as pd\n",
    "my_submit = pd.read_csv(\"sample_submission.csv\")\n",
    "my_submit = pd.DataFrame({'Id': test_filenames, 'Expected': preds})\n",
    "my_submit.head()"
   ],
   "execution_count": 49,
   "outputs": [
    {
     "output_type": "execute_result",
     "data": {
      "text/plain": [
       "           Id                Expected\n",
       "0    img0.jpg            nelson_muntz\n",
       "1    img1.jpg            bart_simpson\n",
       "2   img10.jpg            ned_flanders\n",
       "3  img100.jpg            chief_wiggum\n",
       "4  img101.jpg  apu_nahasapeemapetilon"
      ],
      "text/html": [
       "\n",
       "  <div id=\"df-ccda16cd-e6a1-48bd-bb88-70aca1ed5d5a\">\n",
       "    <div class=\"colab-df-container\">\n",
       "      <div>\n",
       "<style scoped>\n",
       "    .dataframe tbody tr th:only-of-type {\n",
       "        vertical-align: middle;\n",
       "    }\n",
       "\n",
       "    .dataframe tbody tr th {\n",
       "        vertical-align: top;\n",
       "    }\n",
       "\n",
       "    .dataframe thead th {\n",
       "        text-align: right;\n",
       "    }\n",
       "</style>\n",
       "<table border=\"1\" class=\"dataframe\">\n",
       "  <thead>\n",
       "    <tr style=\"text-align: right;\">\n",
       "      <th></th>\n",
       "      <th>Id</th>\n",
       "      <th>Expected</th>\n",
       "    </tr>\n",
       "  </thead>\n",
       "  <tbody>\n",
       "    <tr>\n",
       "      <th>0</th>\n",
       "      <td>img0.jpg</td>\n",
       "      <td>nelson_muntz</td>\n",
       "    </tr>\n",
       "    <tr>\n",
       "      <th>1</th>\n",
       "      <td>img1.jpg</td>\n",
       "      <td>bart_simpson</td>\n",
       "    </tr>\n",
       "    <tr>\n",
       "      <th>2</th>\n",
       "      <td>img10.jpg</td>\n",
       "      <td>ned_flanders</td>\n",
       "    </tr>\n",
       "    <tr>\n",
       "      <th>3</th>\n",
       "      <td>img100.jpg</td>\n",
       "      <td>chief_wiggum</td>\n",
       "    </tr>\n",
       "    <tr>\n",
       "      <th>4</th>\n",
       "      <td>img101.jpg</td>\n",
       "      <td>apu_nahasapeemapetilon</td>\n",
       "    </tr>\n",
       "  </tbody>\n",
       "</table>\n",
       "</div>\n",
       "      <button class=\"colab-df-convert\" onclick=\"convertToInteractive('df-ccda16cd-e6a1-48bd-bb88-70aca1ed5d5a')\"\n",
       "              title=\"Convert this dataframe to an interactive table.\"\n",
       "              style=\"display:none;\">\n",
       "        \n",
       "  <svg xmlns=\"http://www.w3.org/2000/svg\" height=\"24px\"viewBox=\"0 0 24 24\"\n",
       "       width=\"24px\">\n",
       "    <path d=\"M0 0h24v24H0V0z\" fill=\"none\"/>\n",
       "    <path d=\"M18.56 5.44l.94 2.06.94-2.06 2.06-.94-2.06-.94-.94-2.06-.94 2.06-2.06.94zm-11 1L8.5 8.5l.94-2.06 2.06-.94-2.06-.94L8.5 2.5l-.94 2.06-2.06.94zm10 10l.94 2.06.94-2.06 2.06-.94-2.06-.94-.94-2.06-.94 2.06-2.06.94z\"/><path d=\"M17.41 7.96l-1.37-1.37c-.4-.4-.92-.59-1.43-.59-.52 0-1.04.2-1.43.59L10.3 9.45l-7.72 7.72c-.78.78-.78 2.05 0 2.83L4 21.41c.39.39.9.59 1.41.59.51 0 1.02-.2 1.41-.59l7.78-7.78 2.81-2.81c.8-.78.8-2.07 0-2.86zM5.41 20L4 18.59l7.72-7.72 1.47 1.35L5.41 20z\"/>\n",
       "  </svg>\n",
       "      </button>\n",
       "      \n",
       "  <style>\n",
       "    .colab-df-container {\n",
       "      display:flex;\n",
       "      flex-wrap:wrap;\n",
       "      gap: 12px;\n",
       "    }\n",
       "\n",
       "    .colab-df-convert {\n",
       "      background-color: #E8F0FE;\n",
       "      border: none;\n",
       "      border-radius: 50%;\n",
       "      cursor: pointer;\n",
       "      display: none;\n",
       "      fill: #1967D2;\n",
       "      height: 32px;\n",
       "      padding: 0 0 0 0;\n",
       "      width: 32px;\n",
       "    }\n",
       "\n",
       "    .colab-df-convert:hover {\n",
       "      background-color: #E2EBFA;\n",
       "      box-shadow: 0px 1px 2px rgba(60, 64, 67, 0.3), 0px 1px 3px 1px rgba(60, 64, 67, 0.15);\n",
       "      fill: #174EA6;\n",
       "    }\n",
       "\n",
       "    [theme=dark] .colab-df-convert {\n",
       "      background-color: #3B4455;\n",
       "      fill: #D2E3FC;\n",
       "    }\n",
       "\n",
       "    [theme=dark] .colab-df-convert:hover {\n",
       "      background-color: #434B5C;\n",
       "      box-shadow: 0px 1px 3px 1px rgba(0, 0, 0, 0.15);\n",
       "      filter: drop-shadow(0px 1px 2px rgba(0, 0, 0, 0.3));\n",
       "      fill: #FFFFFF;\n",
       "    }\n",
       "  </style>\n",
       "\n",
       "      <script>\n",
       "        const buttonEl =\n",
       "          document.querySelector('#df-ccda16cd-e6a1-48bd-bb88-70aca1ed5d5a button.colab-df-convert');\n",
       "        buttonEl.style.display =\n",
       "          google.colab.kernel.accessAllowed ? 'block' : 'none';\n",
       "\n",
       "        async function convertToInteractive(key) {\n",
       "          const element = document.querySelector('#df-ccda16cd-e6a1-48bd-bb88-70aca1ed5d5a');\n",
       "          const dataTable =\n",
       "            await google.colab.kernel.invokeFunction('convertToInteractive',\n",
       "                                                     [key], {});\n",
       "          if (!dataTable) return;\n",
       "\n",
       "          const docLinkHtml = 'Like what you see? Visit the ' +\n",
       "            '<a target=\"_blank\" href=https://colab.research.google.com/notebooks/data_table.ipynb>data table notebook</a>'\n",
       "            + ' to learn more about interactive tables.';\n",
       "          element.innerHTML = '';\n",
       "          dataTable['output_type'] = 'display_data';\n",
       "          await google.colab.output.renderOutput(dataTable, element);\n",
       "          const docLink = document.createElement('div');\n",
       "          docLink.innerHTML = docLinkHtml;\n",
       "          element.appendChild(docLink);\n",
       "        }\n",
       "      </script>\n",
       "    </div>\n",
       "  </div>\n",
       "  "
      ]
     },
     "metadata": {},
     "execution_count": 49
    }
   ]
  },
  {
   "cell_type": "code",
   "metadata": {
    "id": "5rdlyMKtiYe2",
    "pycharm": {
     "name": "#%%\n"
    }
   },
   "source": [
    "my_submit.to_csv('drive/MyDrive/Colab_Notebooks/simple_cnn_baseline.csv', index=False)"
   ],
   "execution_count": 50,
   "outputs": []
  },
  {
   "cell_type": "markdown",
   "source": [
    "В соревнованиях был получен скор 0.97"
   ],
   "metadata": {
    "collapsed": false,
    "pycharm": {
     "name": "#%% md\n"
    }
   }
  }
 ]
}